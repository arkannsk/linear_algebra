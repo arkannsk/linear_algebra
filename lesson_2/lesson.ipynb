{
 "cells": [
  {
   "cell_type": "code",
   "execution_count": 1,
   "metadata": {
    "pycharm": {
     "name": "#%%\n"
    }
   },
   "outputs": [],
   "source": [
    "import numpy as np"
   ]
  },
  {
   "cell_type": "markdown",
   "metadata": {
    "collapsed": true,
    "pycharm": {
     "name": "#%% md\n"
    }
   },
   "source": [
    "__1.__ Установить, какие произведения матриц $AB$ и $BA$ определены, и найти размерности полученных матриц:\n",
    "\n",
    "   а) $A$ — матрица $4\\times 2$, $B$ — матрица $4\\times 2$;\n",
    "\n",
    "   б) $A$ — матрица $2\\times 5$, $B$ — матрица $5\\times 3$;\n",
    "\n",
    "   в) $A$ — матрица $8\\times 3$, $B$ — матрица $3\\times 8$;\n",
    "\n",
    "   г) $A$ — квадратная матрица $4\\times 4$, $B$ — квадратная матрица $4\\times 4$."
   ]
  },
  {
   "cell_type": "markdown",
   "metadata": {},
   "source": [
    "### a)\n",
    "### $$A \\cdot B = \\varnothing$$\n",
    "### $$B \\cdot A = \\varnothing$$\n",
    "### б)\n",
    "### $$A \\cdot B = \\varnothing$$\n",
    "#### $B \\cdot A $ Размерность равна 3 x 2\n",
    "### в)\n",
    "#### $A \\cdot B $ Размерность равна 3 x 3\n",
    "#### $B \\cdot A $ Размерность равна 8 x 8\n",
    "### г)\n",
    "#### $A \\cdot B $ Размерность равна 4 x 4\n",
    "#### $B \\cdot A $ Размерность равна 4 x 4"
   ]
  },
  {
   "cell_type": "markdown",
   "metadata": {},
   "source": [
    "__2.__ Найти сумму и произведение матриц $A=\\begin{pmatrix}\n",
    "1 & -2\\\\\n",
    "3 & 0\n",
    "\\end{pmatrix}$ и $B=\\begin{pmatrix}\n",
    "4 & -1\\\\\n",
    "0 & 5\n",
    "\\end{pmatrix}.$"
   ]
  },
  {
   "cell_type": "markdown",
   "metadata": {},
   "source": [
    "$$A\\cdot B=\\begin{pmatrix}\n",
    "1 \\cdot 4 + (-2) \\cdot 0 & 1 \\cdot (-1) + (-2) \\cdot 5 \\\\\n",
    "3 \\cdot 4 + 0 \\cdot 0 & 3 \\cdot (-1) + 0 \\cdot 5 \\\\\n",
    "\\end{pmatrix} =\n",
    "\\begin{pmatrix}\n",
    "4 & -11\\\\\n",
    "12 & -3\n",
    "\\end{pmatrix}. $$"
   ]
  },
  {
   "cell_type": "markdown",
   "metadata": {
    "pycharm": {
     "name": "#%% md\n"
    }
   },
   "source": [
    "$$B\\cdot A=\\begin{pmatrix}\n",
    "4 \\cdot 1 + (-1) \\cdot 3 & 4 \\cdot (-2) + (-1) \\cdot 0 \\\\\n",
    "0 \\cdot 1 + 5 \\cdot 3 & 0 \\cdot (-2) + 0 \\\\\n",
    "\\end{pmatrix} =\n",
    "\\begin{pmatrix}\n",
    "1 & -8\\\\\n",
    "15 & 0\n",
    "\\end{pmatrix}. $$"
   ]
  },
  {
   "cell_type": "code",
   "execution_count": 2,
   "metadata": {
    "pycharm": {
     "name": "#%%\n"
    }
   },
   "outputs": [
    {
     "name": "stdout",
     "output_type": "stream",
     "text": [
      "Матрица A + B\n",
      "[[ 5 -3]\n",
      " [ 3  5]]\n",
      "Матрица AB\n",
      "[[  4 -11]\n",
      " [ 12  -3]]\n",
      "Матрица BA\n",
      "[[ 1 -8]\n",
      " [15  0]]\n"
     ]
    }
   ],
   "source": [
    "A = np.array([[1, -2],[3, 0]])\n",
    "B = np.array([[4, -1],[0, 5]])\n",
    "\n",
    "print(f'Матрица A + B\\n{A + B}')\n",
    "print(f'Матрица AB\\n{A @ B}')\n",
    "print(f'Матрица BA\\n{B @ A}')"
   ]
  },
  {
   "cell_type": "markdown",
   "metadata": {},
   "source": [
    "__3.__ Из закономерностей сложения и умножения матриц на число можно сделать вывод, что матрицы одного размера образуют линейное пространство. Вычислить линейную комбинацию $3A-2B+4C$ для матриц $A=\\begin{pmatrix}\n",
    "1 & 7\\\\\n",
    "3 & -6\n",
    "\\end{pmatrix}$, $B=\\begin{pmatrix}\n",
    "0 & 5\\\\\n",
    "2 & -1\n",
    "\\end{pmatrix}$, $C=\\begin{pmatrix}\n",
    "2 & -4\\\\\n",
    "1 & 1\n",
    "\\end{pmatrix}.$"
   ]
  },
  {
   "cell_type": "code",
   "execution_count": 3,
   "metadata": {
    "pycharm": {
     "name": "#%%\n"
    }
   },
   "outputs": [
    {
     "name": "stdout",
     "output_type": "stream",
     "text": [
      "Линейная комбинация \n",
      "[[ 11  -5]\n",
      " [  9 -12]]\n"
     ]
    }
   ],
   "source": [
    "A = np.array([[1, 7],[3, -6]])\n",
    "B = np.array([[0, 5],[2, -1]])\n",
    "C = np.array([[2, -4],[1, 1]])\n",
    "\n",
    "print(f'Линейная комбинация \\n{A * 3 + B * (-2) + 4 * C}')"
   ]
  },
  {
   "cell_type": "markdown",
   "metadata": {},
   "source": [
    "__4.__ Дана матрица $A=\\begin{pmatrix}\n",
    "4 & 1\\\\\n",
    "5 & -2\\\\\n",
    "2 & 3\n",
    "\\end{pmatrix}$.\n",
    "Вычислить $AA^{T}$ и $A^{T}A$."
   ]
  },
  {
   "cell_type": "code",
   "execution_count": 4,
   "metadata": {
    "pycharm": {
     "name": "#%%\n"
    }
   },
   "outputs": [
    {
     "name": "stdout",
     "output_type": "stream",
     "text": [
      "Матрица A * At\n",
      "[[17 18  5]\n",
      " [18 29 16]\n",
      " [ 5 16 13]]\n",
      "Матрица At * A\n",
      "[[ 45 -12]\n",
      " [-12  14]]\n"
     ]
    }
   ],
   "source": [
    "A = np.array([[4, 1],[5, -2],[2, -3]])\n",
    "\n",
    "print(f'Матрица A * At\\n{A @ A.T}')\n",
    "print(f'Матрица At * A\\n{A.T @ A}')"
   ]
  },
  {
   "cell_type": "markdown",
   "metadata": {},
   "source": [
    "#### 5*. Написать на Python функцию для перемножения двух произвольных матриц, не используя NumPy."
   ]
  },
  {
   "cell_type": "code",
   "execution_count": 4,
   "metadata": {
    "pycharm": {
     "name": "#%%\n"
    }
   },
   "outputs": [],
   "source": []
  },
  {
   "cell_type": "markdown",
   "metadata": {
    "pycharm": {
     "name": "#%% md\n"
    }
   },
   "source": [
    "__1.__ Вычислить определитель:\n",
    "\n",
    "   a)\n",
    "\n",
    "$$\\begin{vmatrix}\n",
    "sinx & -cosx\\\\\n",
    "cosx & sinx\n",
    "\\end{vmatrix};$$\n",
    "\n",
    "б)\n",
    "\n",
    "$$\\begin{vmatrix}\n",
    "4 & 2 & 3\\\\\n",
    "0 & 5 & 1\\\\\n",
    "0 & 0 & 9\n",
    "\\end{vmatrix};\n",
    "$$\n",
    "\n",
    "   в)\n",
    "\n",
    "$$\\begin{vmatrix}\n",
    "1 & 2 & 3\\\\\n",
    "4 & 5 & 6\\\\\n",
    "7 & 8 & 9\n",
    "\\end{vmatrix}.$$"
   ]
  },
  {
   "cell_type": "markdown",
   "metadata": {},
   "source": [
    "### a) $$ \\sin{x} \\cdot \\sin{x} - (\\cos{x} \\cdot (-\\cos{x})) = 1$$\n",
    "### б)\n",
    "\n",
    "$$\\begin{vmatrix}\n",
    "4 & 2 & 3\\\\\n",
    "0 & 5 & 1\\\\\n",
    "0 & 0 & 9\n",
    "\\end{vmatrix}=\n",
    "4\\cdot\\begin{vmatrix}\n",
    "5 & 1\\\\\n",
    "0 & 9\n",
    "\\end{vmatrix}-\n",
    "2\\cdot\\begin{vmatrix}\n",
    "0 & 3\\\\\n",
    "0 & 9\n",
    "\\end{vmatrix}+\n",
    "3\\cdot\\begin{vmatrix}\n",
    "0 & 5\\\\\n",
    "0 & 0\n",
    "\\end{vmatrix}=4\\cdot(5\\cdot9)-2\\cdot(0)+3\\cdot(0)= 180\n",
    "$$"
   ]
  },
  {
   "cell_type": "code",
   "execution_count": 5,
   "metadata": {
    "pycharm": {
     "name": "#%%\n"
    }
   },
   "outputs": [
    {
     "name": "stdout",
     "output_type": "stream",
     "text": [
      "Определитель:\n",
      "180\n"
     ]
    }
   ],
   "source": [
    "A = np.array([[4, 2, 3],[0, 5, 1],[0, 0, 9]])\n",
    "\n",
    "print(f'Определитель:\\n{np.linalg.det(A):.0f}')"
   ]
  },
  {
   "cell_type": "markdown",
   "metadata": {},
   "source": [
    "#### в)\n",
    "$$\\begin{vmatrix}\n",
    "1 & 2 & 3\\\\\n",
    "4 & 5 & 6\\\\\n",
    "7 & 8 & 9\n",
    "\\end{vmatrix}=\n",
    "1\\cdot\\begin{vmatrix}\n",
    "5 & 6\\\\\n",
    "8 & 9\n",
    "\\end{vmatrix}-\n",
    "2\\cdot\\begin{vmatrix}\n",
    "4 & 6\\\\\n",
    "7 & 9\n",
    "\\end{vmatrix}+\n",
    "3\\cdot\\begin{vmatrix}\n",
    "4 & 5\\\\\n",
    "7 & 8\n",
    "\\end{vmatrix}= -3 + 12 - 9 = 0\n",
    "$$"
   ]
  },
  {
   "cell_type": "code",
   "execution_count": 6,
   "metadata": {
    "pycharm": {
     "name": "#%%\n"
    }
   },
   "outputs": [
    {
     "name": "stdout",
     "output_type": "stream",
     "text": [
      "Определитель:\n",
      "0\n"
     ]
    }
   ],
   "source": [
    "A = np.array([[1, 2, 3],[4, 5, 6],[7, 8, 9]])\n",
    "\n",
    "print(f'Определитель:\\n{np.linalg.det(A):.0f}')"
   ]
  },
  {
   "cell_type": "markdown",
   "metadata": {},
   "source": [
    "__2.__ Определитель матрицы $A$ равен $4$. Найти:\n",
    "\n",
    "   а) $det(A^{2}) = 16$;\n",
    "\n",
    "   б) $det(A^{T}) = 4$;\n",
    "\n",
    "   в) $det(2A) = 8$."
   ]
  },
  {
   "cell_type": "markdown",
   "metadata": {},
   "source": [
    "__3.__  Доказать, что матрица\n",
    "\n",
    "$$\\begin{pmatrix}\n",
    "-2 & 7 & -3\\\\\n",
    "4 & -14 & 6\\\\\n",
    "-3 & 7 & 13\n",
    "\\end{pmatrix}$$\n",
    "\n",
    "вырожденная."
   ]
  },
  {
   "cell_type": "code",
   "execution_count": 7,
   "metadata": {
    "pycharm": {
     "name": "#%%\n"
    }
   },
   "outputs": [
    {
     "name": "stdout",
     "output_type": "stream",
     "text": [
      "Определитель:\n",
      "0\n",
      "Вывод: матрица вырожденная\n"
     ]
    }
   ],
   "source": [
    "A = np.array([[-2, 7, -3],[4, -14, 6],[-3, 7, 13]])\n",
    "\n",
    "print(f'Определитель:\\n{np.linalg.det(A):.0f}')\n",
    "print('Вывод: матрица вырожденная')"
   ]
  },
  {
   "cell_type": "markdown",
   "metadata": {},
   "source": [
    "__4.__ Найти ранг матрицы:\n",
    "\n",
    "   а) $\\begin{pmatrix}\n",
    "1 & 2 & 3\\\\\n",
    "1 & 1 & 1\\\\\n",
    "2 & 3 & 4\n",
    "\\end{pmatrix};$\n",
    "\n",
    "   б) $\\begin{pmatrix}\n",
    "0 & 0 & 2 & 1\\\\\n",
    "0 & 0 & 2 & 2\\\\\n",
    "0 & 0 & 4 & 3\\\\\n",
    "2 & 3 & 5 & 6\n",
    "\\end{pmatrix}.$"
   ]
  },
  {
   "cell_type": "code",
   "execution_count": 8,
   "metadata": {
    "pycharm": {
     "name": "#%%\n"
    }
   },
   "outputs": [
    {
     "name": "stdout",
     "output_type": "stream",
     "text": [
      "Ранг матрицы: 2\n"
     ]
    }
   ],
   "source": [
    "A = np.array([[1, 2, 3],[1, 1, 1],[2, 3, 4]]) # 3 строка сумма 1 и 2 строки\n",
    "r = np.linalg.matrix_rank(A)\n",
    "print(f'Ранг матрицы: {r}')"
   ]
  },
  {
   "cell_type": "code",
   "execution_count": 9,
   "metadata": {
    "pycharm": {
     "name": "#%%\n"
    }
   },
   "outputs": [
    {
     "name": "stdout",
     "output_type": "stream",
     "text": [
      "Ранг матрицы: 3\n"
     ]
    }
   ],
   "source": [
    "A = np.array([[0, 0, 2, 1],[0, 0, 2, 2],[0, 0, 4, 3],[2, 3, 5, 6]]) # 3 строка сумма 1 и 2 строки\n",
    "r = np.linalg.matrix_rank(A)\n",
    "print(f'Ранг матрицы: {r}')"
   ]
  }
 ],
 "metadata": {
  "kernelspec": {
   "display_name": "Python 3",
   "language": "python",
   "name": "python3"
  },
  "language_info": {
   "codemirror_mode": {
    "name": "ipython",
    "version": 3
   },
   "file_extension": ".py",
   "mimetype": "text/x-python",
   "name": "python",
   "nbconvert_exporter": "python",
   "pygments_lexer": "ipython3",
   "version": "3.9.7"
  }
 },
 "nbformat": 4,
 "nbformat_minor": 1
}