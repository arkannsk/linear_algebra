{
 "cells": [
  {
   "cell_type": "markdown",
   "metadata": {
    "collapsed": true,
    "pycharm": {
     "name": "#%% md\n"
    }
   },
   "source": [
    "__1.__ Найти собственные векторы и собственные значения для линейного оператора, заданного матрицей\n",
    "$$A=\\begin{pmatrix}\n",
    "-1 & -6\\\\\n",
    "2 & 6\n",
    "\\end{pmatrix}.$$"
   ]
  },
  {
   "cell_type": "markdown",
   "source": [
    "$$\\begin{vmatrix}\n",
    "1-\\lambda & -6\\\\\n",
    "2 & 6-\\lambda\n",
    "\\end{vmatrix}=0$$\n",
    "### $$ (-1-\\lambda)(6 - \\lambda) - 2*(-6) = 0 $$\n",
    "### $$ \\lambda^2 - 5\\lambda + 12 = 0 $$\n",
    "### $$ D = 25 - 24 = 1 $$\n",
    "### $$ \\lambda_1 = \\frac{5 - 1}{2} = 2 $$\n",
    "### $$ \\lambda_2 = \\frac{5 + 1}{2} = 3 $$\n",
    "$$\\begin{pmatrix}\n",
    "-1 & -6\\\\\n",
    "2 & 6\n",
    "\\end{pmatrix}\n",
    "\\begin{pmatrix}\n",
    "x_{1}\\\\\n",
    "x_{2}\n",
    "\\end{pmatrix}=\n",
    "2\\lambda\n",
    "\\begin{pmatrix}\n",
    "x_{1}\\\\\n",
    "x_{2}\n",
    "\\end{pmatrix}\n",
    "$$\n",
    "$$\\begin{cases}\n",
    "-x_1 - 6x_2 = 2x_1 \\\\\n",
    "2x_1 + 6x_2 = 2x_2\n",
    "\\end{cases}\n",
    "\\Rightarrow\n",
    "\\begin{cases}\n",
    "x_1= 2\\\\\n",
    "x_2 = -1\n",
    "\\end{cases}$$\n",
    "$$\\begin{pmatrix}\n",
    "-1 & -6\\\\\n",
    "2 & 6\n",
    "\\end{pmatrix}\n",
    "\\begin{pmatrix}\n",
    "x_{1}\\\\\n",
    "x_{2}\n",
    "\\end{pmatrix}=\n",
    "3\\lambda\n",
    "\\begin{pmatrix}\n",
    "x_{1}\\\\\n",
    "x_{2}\n",
    "\\end{pmatrix}\n",
    "$$\n",
    "$$\\begin{cases}\n",
    "-x_1 - 6x_2 = 3x_1 \\\\\n",
    "2x_1 + 6x_2 = 3x_2\n",
    "\\end{cases}\n",
    "\\Rightarrow\n",
    "\\begin{cases}\n",
    "x_1= 3\\\\\n",
    "x_2 = -2\n",
    "\\end{cases}$$\n"
   ],
   "metadata": {
    "collapsed": false
   }
  },
  {
   "cell_type": "code",
   "source": [
    "import numpy as np\n",
    "\n",
    "np.set_printoptions(precision=2, suppress=True)\n",
    "\n",
    "a = np.array([[-1, -6], [2, 6]])\n",
    "w, v = np.linalg.eig(a)\n",
    "\n",
    "print(f'Собственные значения:\\n{w}')\n",
    "print(f'Собственные векторы:\\n{v}')"
   ],
   "metadata": {
    "collapsed": false,
    "pycharm": {
     "name": "#%%\n"
    }
   },
   "execution_count": 1,
   "outputs": [
    {
     "name": "stdout",
     "output_type": "stream",
     "text": [
      "Собственные значения:\n",
      "[2. 3.]\n",
      "Собственные векторы:\n",
      "[[-0.89  0.83]\n",
      " [ 0.45 -0.55]]\n"
     ]
    }
   ]
  },
  {
   "cell_type": "markdown",
   "source": [
    "__2.__ Дан оператор поворота на 180 градусов, задаваемый матрицей\n",
    "\n",
    "$$A=\\begin{pmatrix}\n",
    "-1 & 0\\\\\n",
    "0 & -1\n",
    "\\end{pmatrix}.$$\n",
    "\n",
    "Показать, что __любой__ вектор является для него собственным."
   ],
   "metadata": {
    "collapsed": false
   }
  },
  {
   "cell_type": "code",
   "source": [
    "a = np.array([[-1, 0], [0, -1]])\n",
    "w, v = np.linalg.eig(a)\n",
    "\n",
    "print(f'Собственные значения:\\n{w}')\n",
    "print(f'Собственные векторы:\\n{v}')"
   ],
   "metadata": {
    "collapsed": false,
    "pycharm": {
     "name": "#%%\n"
    }
   },
   "execution_count": 2,
   "outputs": [
    {
     "name": "stdout",
     "output_type": "stream",
     "text": [
      "Собственные значения:\n",
      "[-1. -1.]\n",
      "Собственные векторы:\n",
      "[[1. 0.]\n",
      " [0. 1.]]\n"
     ]
    }
   ]
  },
  {
   "cell_type": "markdown",
   "source": [
    "__3.__ Пусть линейный оператор задан матрицей\n",
    "\n",
    "$$A=\\begin{pmatrix}\n",
    "1 & 1\\\\\n",
    "-1 & 3\n",
    "\\end{pmatrix}.$$\n",
    "\n",
    "Установить, является ли вектор $x=(1,1)$ собственным вектором этого линейного оператора."
   ],
   "metadata": {
    "collapsed": false
   }
  },
  {
   "cell_type": "markdown",
   "source": [],
   "metadata": {
    "collapsed": false
   }
  },
  {
   "cell_type": "markdown",
   "source": [
    "$$\\begin{pmatrix}\n",
    "1 & -1\\\\\n",
    "-1 & 3\n",
    "\\end{pmatrix}\n",
    "\\begin{pmatrix}\n",
    "1\\\\\n",
    "1\n",
    "\\end{pmatrix}=\n",
    "\\lambda\n",
    "\\begin{pmatrix}\n",
    "1\\\\\n",
    "1\n",
    "\\end{pmatrix}\n",
    "$$\n",
    "$$\\begin{cases}\n",
    "1 + 1= \\lambda \\\\\n",
    "-1 + 3 = \\lambda\n",
    "\\end{cases}\n",
    "\\Rightarrow\n",
    "\\lambda = 2\n",
    "$$\n",
    "#### Вывод: решение единственное, значит вектор является собственным"
   ],
   "metadata": {
    "collapsed": false
   }
  },
  {
   "cell_type": "markdown",
   "source": [
    "**4.** Пусть линейный оператор задан матрицей\n",
    "\n",
    "$$A=\\begin{pmatrix} 0 & 3 & 0\\\\ 3 & 0 & 0\\\\ 0 & 0 & 3 \\end{pmatrix}.$$\n",
    "\n",
    "Установить, является ли вектор $x=(3, -3, -4)$ собственным вектором этого линейного оператора."
   ],
   "metadata": {
    "collapsed": false
   }
  },
  {
   "cell_type": "markdown",
   "source": [
    "$$\\begin{pmatrix}\n",
    "0 & 3 & 0\\\\\n",
    "3 & 0 & 0 \\\\\n",
    "0 & 0 & 3\n",
    "\\end{pmatrix}\n",
    "\\begin{pmatrix}\n",
    "3\\\\\n",
    "-3\\\\\n",
    "-4\n",
    "\\end{pmatrix}=\n",
    "\\lambda\n",
    "\\begin{pmatrix}\n",
    "3\\\\\n",
    "-3\\\\\n",
    "-4\n",
    "\\end{pmatrix}\n",
    "$$\n",
    "$$\\begin{cases}\n",
    "-9 = 3\\lambda \\\\\n",
    "9 = -3\\lambda \\\\\n",
    "-12 = -4\\lambda\n",
    "\\end{cases}\n",
    "\\Rightarrow\n",
    "\\begin{cases}\n",
    "\\lambda=-3 \\\\\n",
    "\\lambda=-3 \\\\\n",
    "\\lambda=3 \\\\\n",
    "\\end{cases}.$$\n",
    "#### Вывод: Система не имеет смысла, значит вектор не является собственным"
   ],
   "metadata": {
    "collapsed": false
   }
  },
  {
   "cell_type": "markdown",
   "source": [],
   "metadata": {
    "collapsed": false
   }
  }
 ],
 "metadata": {
  "kernelspec": {
   "display_name": "Python 3",
   "language": "python",
   "name": "python3"
  },
  "language_info": {
   "codemirror_mode": {
    "name": "ipython",
    "version": 2
   },
   "file_extension": ".py",
   "mimetype": "text/x-python",
   "name": "python",
   "nbconvert_exporter": "python",
   "pygments_lexer": "ipython2",
   "version": "2.7.6"
  }
 },
 "nbformat": 4,
 "nbformat_minor": 0
}